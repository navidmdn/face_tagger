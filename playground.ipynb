{
 "cells": [
  {
   "cell_type": "code",
   "execution_count": 1,
   "metadata": {},
   "outputs": [
    {
     "name": "stdout",
     "output_type": "stream",
     "text": [
      "Collecting face_recognition\n",
      "  Using cached https://files.pythonhosted.org/packages/1e/95/f6c9330f54ab07bfa032bf3715c12455a381083125d8880c43cbe76bb3d0/face_recognition-1.3.0-py2.py3-none-any.whl\n",
      "Requirement already satisfied: dlib>=19.7 in /home/navid/venvs/tf2env/lib/python3.6/site-packages/dlib-19.19.99-py3.6-linux-x86_64.egg (from face_recognition) (19.19.99)\n",
      "Collecting face-recognition-models>=0.3.0 (from face_recognition)\n",
      "Requirement already satisfied: Pillow in /home/navid/venvs/tf2env/lib/python3.6/site-packages (from face_recognition) (6.1.0)\n",
      "Requirement already satisfied: Click>=6.0 in /home/navid/venvs/tf2env/lib/python3.6/site-packages (from face_recognition) (7.0)\n",
      "Requirement already satisfied: numpy in /home/navid/venvs/tf2env/lib/python3.6/site-packages (from face_recognition) (1.16.4)\n",
      "Installing collected packages: face-recognition-models, face-recognition\n",
      "Successfully installed face-recognition-1.3.0 face-recognition-models-0.3.0\n",
      "\u001b[33mWARNING: You are using pip version 19.1.1, however version 20.0.2 is available.\n",
      "You should consider upgrading via the 'pip install --upgrade pip' command.\u001b[0m\n"
     ]
    }
   ],
   "source": [
    "`!pip install face_recognition"
   ]
  },
  {
   "cell_type": "code",
   "execution_count": 2,
   "metadata": {},
   "outputs": [],
   "source": [
    "import face_recognition\n",
    "import cv2\n",
    "import numpy as np\n",
    "import copy\n",
    "\n",
    "IMGS_PATH = 'data/images/{}'"
   ]
  },
  {
   "cell_type": "code",
   "execution_count": 3,
   "metadata": {},
   "outputs": [],
   "source": [
    "def preprocess(img, size=(400, 400), gscale=False):\n",
    "    result = cv2.resize(img, size)\n",
    "    #openCV uses BGR so we make it RGB\n",
    "    result = result[:,:,::-1]\n",
    "    if gscale:\n",
    "        #do smtg\n",
    "        pass\n",
    "    return result\n",
    "\n",
    "def show_img(img, name='noname'):\n",
    "    cv2.imshow(name, img)\n",
    "    cv2.waitKey(0) # waits until a key is pressed\n",
    "    cv2.destroyAllWindows() \n",
    "    \n",
    "def add_boxes_to_img(img, locations, names=None):\n",
    "    result = copy.deepcopy(img)\n",
    "    for idx, (top, right, bottom, left) in enumerate(locations):\n",
    "        cv2.rectangle(result, (left, top), (right, bottom),\n",
    "                      (0, 0, 255), 2)\n",
    "    return result"
   ]
  },
  {
   "cell_type": "code",
   "execution_count": 6,
   "metadata": {},
   "outputs": [
    {
     "data": {
      "text/plain": [
       "(4000, 6000, 3)"
      ]
     },
     "execution_count": 6,
     "metadata": {},
     "output_type": "execute_result"
    }
   ],
   "source": [
    "image = face_recognition.load_image_file(IMGS_PATH.format('DSC_0946.JPG'))\n",
    "# face_locations = face_recognition.face_locations(preprocess(image))\n",
    "# show_img(preprocess(image))\n",
    "# face_locations\n",
    "cv2.imwrite(i)"
   ]
  },
  {
   "cell_type": "code",
   "execution_count": 5,
   "metadata": {},
   "outputs": [],
   "source": [
    "image = face_recognition.load_image_file(IMGS_PATH.format('DSC_0938.JPG'))\n",
    "image = preprocess(image)\n",
    "# show_img(image)\n",
    "\n",
    "face_locations = face_recognition.face_locations(image)\n",
    "image = add_boxes_to_img(image, face_locations)\n",
    "show_img(image)"
   ]
  },
  {
   "cell_type": "code",
   "execution_count": 11,
   "metadata": {},
   "outputs": [
    {
     "data": {
      "text/plain": [
       "(128,)"
      ]
     },
     "execution_count": 11,
     "metadata": {},
     "output_type": "execute_result"
    }
   ],
   "source": [
    "face_embeddings = face_recognition.face_encodings(image, face_locations)\n",
    "face_embeddings[0].shape"
   ]
  },
  {
   "cell_type": "markdown",
   "metadata": {},
   "source": [
    "## NOW!\n",
    "\n",
    "#### need the software to show me faces respectively"
   ]
  },
  {
   "cell_type": "code",
   "execution_count": 1,
   "metadata": {},
   "outputs": [
    {
     "ename": "NameError",
     "evalue": "name 'show_img' is not defined",
     "output_type": "error",
     "traceback": [
      "\u001b[0;31m---------------------------------------------------------------------------\u001b[0m",
      "\u001b[0;31mNameError\u001b[0m                                 Traceback (most recent call last)",
      "\u001b[0;32m<ipython-input-1-4f9c36d56a99>\u001b[0m in \u001b[0;36m<module>\u001b[0;34m\u001b[0m\n\u001b[1;32m      8\u001b[0m \u001b[0;34m\u001b[0m\u001b[0m\n\u001b[1;32m      9\u001b[0m \u001b[0;34m\u001b[0m\u001b[0m\n\u001b[0;32m---> 10\u001b[0;31m \u001b[0mshow_img\u001b[0m\u001b[0;34m(\u001b[0m\u001b[0mget_face_at_location\u001b[0m\u001b[0;34m(\u001b[0m\u001b[0mimage\u001b[0m\u001b[0;34m,\u001b[0m \u001b[0mface_locations\u001b[0m\u001b[0;34m[\u001b[0m\u001b[0;36m2\u001b[0m\u001b[0;34m]\u001b[0m\u001b[0;34m)\u001b[0m\u001b[0;34m)\u001b[0m\u001b[0;34m\u001b[0m\u001b[0;34m\u001b[0m\u001b[0m\n\u001b[0m",
      "\u001b[0;31mNameError\u001b[0m: name 'show_img' is not defined"
     ]
    }
   ],
   "source": [
    "def get_face_at_location(img, loc, margin=30, max_x=400, max_y=400):\n",
    "    result = copy.deepcopy(img)\n",
    "    top, right, bottom, left = loc\n",
    "    result = result[\n",
    "        max(top-margin,0):min(bottom+margin,max_y),\n",
    "        max(left-margin,0):min(right+margin,max_x)]\n",
    "    return result\n",
    "\n",
    "\n",
    "show_img(get_face_at_location(image, face_locations[2]))"
   ]
  },
  {
   "cell_type": "code",
   "execution_count": null,
   "metadata": {},
   "outputs": [],
   "source": []
  }
 ],
 "metadata": {
  "kernelspec": {
   "display_name": "Python 3",
   "language": "python",
   "name": "python3"
  },
  "language_info": {
   "codemirror_mode": {
    "name": "ipython",
    "version": 3
   },
   "file_extension": ".py",
   "mimetype": "text/x-python",
   "name": "python",
   "nbconvert_exporter": "python",
   "pygments_lexer": "ipython3",
   "version": "3.6.8"
  },
  "toc": {
   "base_numbering": 1,
   "nav_menu": {},
   "number_sections": true,
   "sideBar": true,
   "skip_h1_title": false,
   "title_cell": "Table of Contents",
   "title_sidebar": "Contents",
   "toc_cell": false,
   "toc_position": {},
   "toc_section_display": true,
   "toc_window_display": false
  }
 },
 "nbformat": 4,
 "nbformat_minor": 2
}
